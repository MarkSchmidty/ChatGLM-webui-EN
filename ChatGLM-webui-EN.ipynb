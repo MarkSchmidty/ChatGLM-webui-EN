{
  "cells": [
    {
      "cell_type": "code",
      "execution_count": null,
      "metadata": {
        "id": "2xtCm1QUg4Qv",
        "cellView": "form"
      },
      "outputs": [],
      "source": [
        "#@title 1. install the requirements\n",
        "!git clone https://github.com/MarkSchmidty/ChatGLM-webui-EN\n",
        "!cd ChatGLM-webui-EN && bash install.sh"
      ]
    },
    {
      "cell_type": "code",
      "execution_count": null,
      "metadata": {
        "colab": {
          "background_save": true
        },
        "id": "gIfQDwWhjs2t",
        "cellView": "form"
      },
      "outputs": [],
      "source": [
        "#@title 2. Start the webUI\n",
        "!cd ChatGLM-webui-EN && python webui.py --listen --share --model-path marksc/chatglm-6b-int4 --precision int4"
      ]
    }
  ],
  "metadata": {
    "accelerator": "GPU",
    "colab": {
      "provenance": []
    },
    "gpuClass": "standard",
    "kernelspec": {
      "display_name": "Python 3",
      "name": "python3"
    },
    "language_info": {
      "name": "python"
    }
  },
  "nbformat": 4,
  "nbformat_minor": 0
}
